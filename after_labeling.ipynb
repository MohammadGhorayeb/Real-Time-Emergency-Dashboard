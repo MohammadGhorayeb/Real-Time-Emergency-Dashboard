{
 "cells": [
  {
   "cell_type": "code",
   "execution_count": 2,
   "metadata": {},
   "outputs": [],
   "source": [
    "import pandas as pd"
   ]
  },
  {
   "cell_type": "code",
   "execution_count": 14,
   "metadata": {},
   "outputs": [],
   "source": [
    "def process_labels(csv_file, labels_to_delete=None, labels_to_change=None, output_file=\"processed_file_2.csv\"):\n",
    "    # Read the CSV file\n",
    "    df = pd.read_csv(csv_file)\n",
    "\n",
    "    # Ensure the 'Label' column exists\n",
    "    if 'Label' not in df.columns:\n",
    "        print(\"The 'Label' column does not exist in the CSV file.\")\n",
    "        return\n",
    "\n",
    "    # Set default parameters if None provided\n",
    "    if labels_to_delete is None:\n",
    "        labels_to_delete = []\n",
    "    if labels_to_change is None:\n",
    "        labels_to_change = {}\n",
    "\n",
    "    # Delete rows with labels in labels_to_delete\n",
    "    df = df[~df['Label'].isin(labels_to_delete)]\n",
    "\n",
    "    # Replace labels as specified in labels_to_change dictionary\n",
    "    df['Label'] = df['Label'].replace(labels_to_change)\n",
    "\n",
    "    # Save the modified DataFrame to a new CSV file\n",
    "    df.to_csv(output_file, index=False)\n",
    "    print(f\"Processed file saved as '{output_file}'.\")\n"
   ]
  },
  {
   "cell_type": "code",
   "execution_count": 22,
   "metadata": {},
   "outputs": [
    {
     "name": "stdout",
     "output_type": "stream",
     "text": [
      "Processed file saved as 'processed_file_2.csv'.\n"
     ]
    }
   ],
   "source": [
    "\n",
    "# Example usage:\n",
    "csv_file = '/home/moegho/Desktop/490_Project/classified_data_2.csv'  # Replace with your file path\n",
    "labels_to_delete = ['Humanitarian assistance','Humanitarian assistance.', 'Emergency assistance for Education in Lebanon', \n",
    "                    'Humanitarian assistance needed','Emergency response support','Emergency assistance needed',\n",
    "                    'Humanitarian aid and ceasefire support.', 'Humanitarian aid','Volunteers wanted','Emergency-related information',\n",
    "                    'Emergency assistance ramps up','Humanitarian aid efforts','Humanitarian support','Humanitarian aid support',\n",
    "                    'Education assistance', 'Financial advice', 'Emergency appeal', 'Humanitarian assistance for Gaza', 'Emergency relief efforts' ]   # Specify labels you want to delete\n",
    "\n",
    "\n",
    "\n",
    "labels_to_change = {'Authority intervention (police, court, judges, ...)': 'Authority intervention',\n",
    "                     'Authority intervention (police, court, judges)': 'Authority intervention',\n",
    "                    'Authority intervention (police, court, judges, ..)' : 'Authority intervention'}  # Specify labels to change\n",
    "\n",
    "# Run the function\n",
    "process_labels(csv_file, labels_to_delete, labels_to_change,)"
   ]
  },
  {
   "cell_type": "code",
   "execution_count": 16,
   "metadata": {},
   "outputs": [],
   "source": [
    "def get_label_frequencies(csv_file):\n",
    "    # Read the CSV file\n",
    "    df = pd.read_csv(csv_file)\n",
    "\n",
    "    # Ensure the 'Label' column exists\n",
    "    if 'Label' not in df.columns:\n",
    "        print(\"The 'Label' column does not exist in the CSV file.\")\n",
    "        return None\n",
    "\n",
    "    # Get the frequency of each label\n",
    "    label_frequencies = df['Label'].value_counts()\n",
    "\n",
    "    return label_frequencies\n",
    "\n"
   ]
  },
  {
   "cell_type": "code",
   "execution_count": 27,
   "metadata": {},
   "outputs": [
    {
     "name": "stdout",
     "output_type": "stream",
     "text": [
      "Label\n",
      "No assistance needed        4406\n",
      "Authority intervention      3382\n",
      "Rescue operations           1334\n",
      "Evacuation support           671\n",
      "Medical assistance           544\n",
      "Animal rescue assistance     520\n",
      "Infrastructure repair        305\n",
      "Supplies needed              238\n",
      "Shelter request              100\n",
      "Mental health support         90\n",
      "Name: count, dtype: int64\n"
     ]
    }
   ],
   "source": [
    "# Example usage:\n",
    "csv_file = '/home/moegho/Desktop/490_Project/labeled_data.csv'  # Replace with your file path\n",
    "frequencies = get_label_frequencies(csv_file)\n",
    "\n",
    "if frequencies is not None:\n",
    "    print(frequencies)"
   ]
  },
  {
   "cell_type": "code",
   "execution_count": 24,
   "metadata": {},
   "outputs": [
    {
     "name": "stdout",
     "output_type": "stream",
     "text": [
      "Files concatenated and saved as output.csv\n"
     ]
    }
   ],
   "source": [
    "def concatenate_csv(file1, file2, output_file):\n",
    "    # Read the two CSV files\n",
    "    df1 = pd.read_csv(file1)\n",
    "    df2 = pd.read_csv(file2)\n",
    "\n",
    "    # Concatenate the dataframes\n",
    "    concatenated_df = pd.concat([df1, df2], ignore_index=True)\n",
    "\n",
    "    # Save the concatenated dataframe to a new CSV file\n",
    "    concatenated_df.to_csv(output_file, index=False)\n",
    "    print(f\"Files concatenated and saved as {output_file}\")\n",
    "\n",
    "# Example usage\n",
    "file1 = 'processed_file_1.csv'  # Replace with the path to your first CSV file\n",
    "file2 = 'processed_file_2.csv'  # Replace with the path to your second CSV file\n",
    "output_file = 'output.csv'  # Replace with the desired output file name\n",
    "\n",
    "concatenate_csv(file1, file2, output_file)"
   ]
  }
 ],
 "metadata": {
  "kernelspec": {
   "display_name": "venv",
   "language": "python",
   "name": "python3"
  },
  "language_info": {
   "codemirror_mode": {
    "name": "ipython",
    "version": 3
   },
   "file_extension": ".py",
   "mimetype": "text/x-python",
   "name": "python",
   "nbconvert_exporter": "python",
   "pygments_lexer": "ipython3",
   "version": "3.12.3"
  }
 },
 "nbformat": 4,
 "nbformat_minor": 2
}
