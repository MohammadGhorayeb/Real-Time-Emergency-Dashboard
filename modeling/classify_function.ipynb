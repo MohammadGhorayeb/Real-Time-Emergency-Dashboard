{
  "nbformat": 4,
  "nbformat_minor": 0,
  "metadata": {
    "colab": {
      "provenance": []
    },
    "kernelspec": {
      "name": "python3",
      "display_name": "Python 3"
    },
    "language_info": {
      "name": "python"
    }
  },
  "cells": [
    {
      "cell_type": "code",
      "execution_count": null,
      "metadata": {
        "id": "o7CV4QOmCwId"
      },
      "outputs": [],
      "source": [
        "import torch\n",
        "from transformers import BertForSequenceClassification, BertTokenizer"
      ]
    },
    {
      "cell_type": "code",
      "source": [
        "# Path to the extracted model\n",
        "model_path = '/home/moegho/Desktop/490_Project/fine_tuned_model'"
      ],
      "metadata": {
        "id": "-aUbFfw1C7_m"
      },
      "execution_count": null,
      "outputs": []
    },
    {
      "cell_type": "code",
      "source": [
        "# Load the model and tokenizer\n",
        "model = BertForSequenceClassification.from_pretrained(model_path)\n",
        "tokenizer = BertTokenizer.from_pretrained(model_path)"
      ],
      "metadata": {
        "id": "tG9tCmfJDAmB"
      },
      "execution_count": null,
      "outputs": []
    },
    {
      "cell_type": "code",
      "source": [
        "# Label mapping\n",
        "label_mapping = {\n",
        "    \"Medical assistance\": 0,\n",
        "    \"Shelter request\": 1,\n",
        "    \"Supplies needed\": 2,\n",
        "    \"Evacuation support\": 3,\n",
        "    \"Rescue operations\": 4,\n",
        "    \"Mental health support\": 5,\n",
        "    \"Infrastructure repair\": 6,\n",
        "    \"Animal rescue assistance\": 7,\n",
        "    \"No assistance needed\": 8,\n",
        "    \"Authority intervention\": 9\n",
        "}\n",
        "\n",
        "# Inverse mapping to get class names from indices\n",
        "inverse_label_mapping = {v: k for k, v in label_mapping.items()}"
      ],
      "metadata": {
        "id": "2M1bjwSvDC5u"
      },
      "execution_count": null,
      "outputs": []
    },
    {
      "cell_type": "code",
      "source": [
        "def classify_text(text):\n",
        "    # Tokenize the input text\n",
        "    inputs = tokenizer(text, return_tensors=\"pt\", padding=True, truncation=True, max_length=512)\n",
        "\n",
        "    # Get model outputs\n",
        "    outputs = model(**inputs)\n",
        "\n",
        "    # Get predictions\n",
        "    predictions = torch.argmax(outputs.logits, dim=-1)\n",
        "\n",
        "    # Get the class label from the index\n",
        "    class_label = inverse_label_mapping[predictions.item()]\n",
        "\n",
        "    return class_label"
      ],
      "metadata": {
        "id": "twShTsO-DI7s"
      },
      "execution_count": null,
      "outputs": []
    }
  ]
}