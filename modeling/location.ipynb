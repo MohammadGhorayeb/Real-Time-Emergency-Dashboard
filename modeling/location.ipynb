{
 "cells": [
  {
   "cell_type": "code",
   "execution_count": 1,
   "metadata": {
    "colab": {
     "base_uri": "https://localhost:8080/"
    },
    "id": "YHwPis5A7_1x",
    "outputId": "2f1bdea9-8468-4850-9dc5-133579f6665c"
   },
   "outputs": [
    {
     "name": "stdout",
     "output_type": "stream",
     "text": [
      "Requirement already satisfied: openai==0.28 in /usr/local/lib/python3.10/dist-packages (0.28.0)\n",
      "Requirement already satisfied: requests>=2.20 in /usr/local/lib/python3.10/dist-packages (from openai==0.28) (2.32.3)\n",
      "Requirement already satisfied: tqdm in /usr/local/lib/python3.10/dist-packages (from openai==0.28) (4.66.6)\n",
      "Requirement already satisfied: aiohttp in /usr/local/lib/python3.10/dist-packages (from openai==0.28) (3.11.9)\n",
      "Requirement already satisfied: charset-normalizer<4,>=2 in /usr/local/lib/python3.10/dist-packages (from requests>=2.20->openai==0.28) (3.4.0)\n",
      "Requirement already satisfied: idna<4,>=2.5 in /usr/local/lib/python3.10/dist-packages (from requests>=2.20->openai==0.28) (3.10)\n",
      "Requirement already satisfied: urllib3<3,>=1.21.1 in /usr/local/lib/python3.10/dist-packages (from requests>=2.20->openai==0.28) (2.2.3)\n",
      "Requirement already satisfied: certifi>=2017.4.17 in /usr/local/lib/python3.10/dist-packages (from requests>=2.20->openai==0.28) (2024.8.30)\n",
      "Requirement already satisfied: aiohappyeyeballs>=2.3.0 in /usr/local/lib/python3.10/dist-packages (from aiohttp->openai==0.28) (2.4.4)\n",
      "Requirement already satisfied: aiosignal>=1.1.2 in /usr/local/lib/python3.10/dist-packages (from aiohttp->openai==0.28) (1.3.1)\n",
      "Requirement already satisfied: async-timeout<6.0,>=4.0 in /usr/local/lib/python3.10/dist-packages (from aiohttp->openai==0.28) (4.0.3)\n",
      "Requirement already satisfied: attrs>=17.3.0 in /usr/local/lib/python3.10/dist-packages (from aiohttp->openai==0.28) (24.2.0)\n",
      "Requirement already satisfied: frozenlist>=1.1.1 in /usr/local/lib/python3.10/dist-packages (from aiohttp->openai==0.28) (1.5.0)\n",
      "Requirement already satisfied: multidict<7.0,>=4.5 in /usr/local/lib/python3.10/dist-packages (from aiohttp->openai==0.28) (6.1.0)\n",
      "Requirement already satisfied: propcache>=0.2.0 in /usr/local/lib/python3.10/dist-packages (from aiohttp->openai==0.28) (0.2.1)\n",
      "Requirement already satisfied: yarl<2.0,>=1.17.0 in /usr/local/lib/python3.10/dist-packages (from aiohttp->openai==0.28) (1.18.3)\n",
      "Requirement already satisfied: typing-extensions>=4.1.0 in /usr/local/lib/python3.10/dist-packages (from multidict<7.0,>=4.5->aiohttp->openai==0.28) (4.12.2)\n"
     ]
    }
   ],
   "source": [
    "pip install openai==0.28"
   ]
  },
  {
   "cell_type": "code",
   "execution_count": null,
   "metadata": {
    "id": "K8GNSNGI5STy"
   },
   "outputs": [],
   "source": [
    "import openai\n",
    "def extract_cities(api_key, country, text):\n",
    "    openai.api_key = api_key\n",
    "\n",
    "    # Use GPT-4 chat model to identify cities mentioned in the text\n",
    "    try:\n",
    "        response = openai.ChatCompletion.create(\n",
    "            model=\"gpt-4\",\n",
    "            messages=[\n",
    "                {\"role\": \"system\", \"content\": \"You are a location master.\"},\n",
    "                {\"role\": \"user\", \"content\": f\"List all cities, villages from {country} mentioned in the following text: {text} in JSON format\"}\n",
    "            ]\n",
    "        )\n",
    "        cities = response['choices'][0]['message']['content'].strip()\n",
    "        if cities:\n",
    "            if cities:\n",
    "                return cities\n",
    "        else:\n",
    "            return country\n",
    "\n",
    "    except Exception as e:\n",
    "        print(f\"An error occurred: {e}\")\n",
    "        return country\n",
    "\n",
    "\n",
    "# Example usage\n",
    "api_key = 'your api key'"
   ]
  },
  {
   "cell_type": "code",
   "execution_count": 53,
   "metadata": {
    "colab": {
     "base_uri": "https://localhost:8080/"
    },
    "id": "pBaNLk9V5kIk",
    "outputId": "dcf95742-b6b6-423d-f7c6-1a8c6fdbd59f"
   },
   "outputs": [
    {
     "name": "stdout",
     "output_type": "stream",
     "text": [
      "{\n",
      "  \"Cities\": [\"Paris\"],\n",
      "  \"Villages\": []\n",
      "}\n"
     ]
    }
   ],
   "source": [
    "country = 'France'\n",
    "text = 'Paris is a beautiful city known for its fashion and cuisine. There are many other regions in France worth visiting.'\n",
    "\n",
    "#Extract cities or return the country\n",
    "result = extract_cities(api_key, country, text)\n",
    "print(result)"
   ]
  },
  {
   "cell_type": "code",
   "execution_count": 51,
   "metadata": {
    "colab": {
     "base_uri": "https://localhost:8080/"
    },
    "id": "jwTql7Jf9GRW",
    "outputId": "3dd55495-b37b-4288-dd27-1589ed0dc65d"
   },
   "outputs": [
    {
     "name": "stdout",
     "output_type": "stream",
     "text": [
      "{\n",
      "\"Lebanon Locations\": [\n",
      "    \"Beirut\",\n",
      "    \"South Governorate\",\n",
      "    \"Nabatieh\",\n",
      "    \"Bekaa Valley\"]\n",
      "}\n"
     ]
    }
   ],
   "source": [
    "text = \"Beirut, Oct 21 (SocialNews.XYZ) The death toll from Israeli airstrikes on Lebanon since the beginning of the Israel-Hezbollah conflict has reached 2,464, with injuries up to 11,530,the Lebanese Health Ministry has reported. On Saturday alone, 16 people were killed and 59 others wounded in Israeli attacks,the ministry said on Sunday. It noted that 11 people were killed and 27 others wounded in the South Governorate, while fivewere killed and 23 injured in the Nabatieh governorate, with Bekaa Valley reporting nine more injuries, Xinhua news agency reported. Since September 23, the Israeli army has been conducting intensive airstrikes on Lebanon in a sharp escalation with Hezbollah. Since October 8, 2023, Hezbollah and the Israeli army have been exchanging fire across the Lebanon-Israel border amid fears of a broader conflict as the war between Hamas and Israel continues in the Gaza Strip.\"\n",
    "country = \"Lebanon\"\n",
    "#Extract cities or return the country\n",
    "result = extract_cities(api_key, country, text)\n",
    "print(result)"
   ]
  },
  {
   "cell_type": "code",
   "execution_count": 52,
   "metadata": {
    "colab": {
     "base_uri": "https://localhost:8080/"
    },
    "id": "09suRXKs9X2B",
    "outputId": "84e168e5-b860-4ca0-c237-1b1eb8c2fc89"
   },
   "outputs": [
    {
     "name": "stdout",
     "output_type": "stream",
     "text": [
      "The text only mentions one location from Lebanon:\n",
      "\n",
      "{\n",
      "\"Location\": [\n",
      "  {\n",
      "    \"City\": \"Beqaa Valley\"\n",
      "  }\n",
      "]\n",
      "}\n"
     ]
    }
   ],
   "source": [
    "text=\"this is Beqaa Valley\"\n",
    "country = \"Lebanon\"\n",
    "#Extract cities or return the country\n",
    "result = extract_cities(api_key, country, text)\n",
    "print(result)"
   ]
  }
 ],
 "metadata": {
  "colab": {
   "provenance": []
  },
  "kernelspec": {
   "display_name": "Python 3",
   "name": "python3"
  },
  "language_info": {
   "name": "python"
  }
 },
 "nbformat": 4,
 "nbformat_minor": 0
}
