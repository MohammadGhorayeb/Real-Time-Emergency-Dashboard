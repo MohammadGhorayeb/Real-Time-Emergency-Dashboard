{
 "cells": [
  {
   "cell_type": "code",
   "execution_count": 2,
   "metadata": {},
   "outputs": [],
   "source": [
    "import pandas as pd"
   ]
  },
  {
   "cell_type": "code",
   "execution_count": 4,
   "metadata": {},
   "outputs": [
    {
     "data": {
      "text/html": [
       "<div>\n",
       "<style scoped>\n",
       "    .dataframe tbody tr th:only-of-type {\n",
       "        vertical-align: middle;\n",
       "    }\n",
       "\n",
       "    .dataframe tbody tr th {\n",
       "        vertical-align: top;\n",
       "    }\n",
       "\n",
       "    .dataframe thead th {\n",
       "        text-align: right;\n",
       "    }\n",
       "</style>\n",
       "<table border=\"1\" class=\"dataframe\">\n",
       "  <thead>\n",
       "    <tr style=\"text-align: right;\">\n",
       "      <th></th>\n",
       "      <th>Keyword</th>\n",
       "      <th>Title</th>\n",
       "      <th>Source</th>\n",
       "      <th>Link</th>\n",
       "      <th>Snippet</th>\n",
       "    </tr>\n",
       "  </thead>\n",
       "  <tbody>\n",
       "    <tr>\n",
       "      <th>0</th>\n",
       "      <td>Lebanon</td>\n",
       "      <td>Amid Air Strikes and Rockets, an SMS From the ...</td>\n",
       "      <td>Wired</td>\n",
       "      <td>https://www.wired.com/story/amid-air-strikes-a...</td>\n",
       "      <td>As Israel intensifies its attacks on Lebanon, ...</td>\n",
       "    </tr>\n",
       "    <tr>\n",
       "      <th>1</th>\n",
       "      <td>Lebanon</td>\n",
       "      <td>Pregnant British woman's 'guilt' over fleeing ...</td>\n",
       "      <td>BBC News</td>\n",
       "      <td>https://www.bbc.com/news/articles/c5y8emq35y1o</td>\n",
       "      <td>Alla Ghalayini, who arrived in London on Sunda...</td>\n",
       "    </tr>\n",
       "    <tr>\n",
       "      <th>2</th>\n",
       "      <td>Lebanon</td>\n",
       "      <td>Displaced people shelter in Lebanese school</td>\n",
       "      <td>BBC News</td>\n",
       "      <td>https://www.bbc.com/news/videos/clyl8gxxm9lo</td>\n",
       "      <td>As Israel continues to bombard southern Lebano...</td>\n",
       "    </tr>\n",
       "    <tr>\n",
       "      <th>3</th>\n",
       "      <td>Lebanon</td>\n",
       "      <td>What satellite data shows about rocket damage ...</td>\n",
       "      <td>BBC News</td>\n",
       "      <td>https://www.bbc.com/news/videos/cjwdqx6e2yjo</td>\n",
       "      <td>After rocket attacks between Hezbollah and Isr...</td>\n",
       "    </tr>\n",
       "    <tr>\n",
       "      <th>4</th>\n",
       "      <td>Lebanon</td>\n",
       "      <td>Five dead in Israeli air strike on central Beirut</td>\n",
       "      <td>BBC News</td>\n",
       "      <td>https://www.bbc.com/news/articles/c8rd0gnv68jo</td>\n",
       "      <td>It is the first Israeli strike so close to the...</td>\n",
       "    </tr>\n",
       "  </tbody>\n",
       "</table>\n",
       "</div>"
      ],
      "text/plain": [
       "   Keyword                                              Title    Source  \\\n",
       "0  Lebanon  Amid Air Strikes and Rockets, an SMS From the ...     Wired   \n",
       "1  Lebanon  Pregnant British woman's 'guilt' over fleeing ...  BBC News   \n",
       "2  Lebanon        Displaced people shelter in Lebanese school  BBC News   \n",
       "3  Lebanon  What satellite data shows about rocket damage ...  BBC News   \n",
       "4  Lebanon  Five dead in Israeli air strike on central Beirut  BBC News   \n",
       "\n",
       "                                                Link  \\\n",
       "0  https://www.wired.com/story/amid-air-strikes-a...   \n",
       "1     https://www.bbc.com/news/articles/c5y8emq35y1o   \n",
       "2       https://www.bbc.com/news/videos/clyl8gxxm9lo   \n",
       "3       https://www.bbc.com/news/videos/cjwdqx6e2yjo   \n",
       "4     https://www.bbc.com/news/articles/c8rd0gnv68jo   \n",
       "\n",
       "                                             Snippet  \n",
       "0  As Israel intensifies its attacks on Lebanon, ...  \n",
       "1  Alla Ghalayini, who arrived in London on Sunda...  \n",
       "2  As Israel continues to bombard southern Lebano...  \n",
       "3  After rocket attacks between Hezbollah and Isr...  \n",
       "4  It is the first Israeli strike so close to the...  "
      ]
     },
     "execution_count": 4,
     "metadata": {},
     "output_type": "execute_result"
    }
   ],
   "source": [
    "data = pd.read_csv('your/basic/data/file/path.csv')\n",
    "data.head()"
   ]
  },
  {
   "cell_type": "code",
   "execution_count": 5,
   "metadata": {},
   "outputs": [],
   "source": [
    "# Assuming your DataFrame is named df\n",
    "\n",
    "# Drop the specified columns\n",
    "df = data.drop(['Source', 'Link'], axis=1)\n",
    "\n",
    "# Save the modified DataFrame to a new CSV file\n",
    "df.to_csv('new/data/file/path.csv', index=False)\n"
   ]
  }
 ],
 "metadata": {
  "kernelspec": {
   "display_name": "myenv",
   "language": "python",
   "name": "python3"
  },
  "language_info": {
   "codemirror_mode": {
    "name": "ipython",
    "version": 3
   },
   "file_extension": ".py",
   "mimetype": "text/x-python",
   "name": "python",
   "nbconvert_exporter": "python",
   "pygments_lexer": "ipython3",
   "version": "3.12.3"
  }
 },
 "nbformat": 4,
 "nbformat_minor": 2
}
