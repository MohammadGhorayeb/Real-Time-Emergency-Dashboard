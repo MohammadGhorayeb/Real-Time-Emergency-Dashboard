{
 "cells": [
  {
   "cell_type": "code",
   "execution_count": 6,
   "metadata": {},
   "outputs": [],
   "source": [
    "import os\n",
    "import openai\n",
    "import pandas as pd\n",
    "import time\n",
    "import logging\n",
    "import argparse"
   ]
  },
  {
   "cell_type": "code",
   "execution_count": 13,
   "metadata": {},
   "outputs": [],
   "source": [
    "df = pd.read_csv('new_data.csv')\n",
    "# Select 10 random rows\n",
    "random_rows = df.sample(n=10)\n",
    "\n",
    "# Save the random rows to a CSV file\n",
    "random_rows.to_csv('test_tweets.csv', index=False)"
   ]
  },
  {
   "cell_type": "code",
   "execution_count": 9,
   "metadata": {},
   "outputs": [],
   "source": [
    "os.environ[\"OPENAI_API_KEY\"] = \"\"\n"
   ]
  },
  {
   "cell_type": "code",
   "execution_count": 10,
   "metadata": {},
   "outputs": [],
   "source": [
    "# Load API key from environment variable\n",
    "openai.api_key = os.getenv(\"OPENAI_API_KEY\")\n",
    "if not openai.api_key:\n",
    "    raise ValueError(\"API key not found. Please set the OPENAI_API_KEY environment variable.\")\n",
    "\n",
    "# Set up logging\n",
    "logging.basicConfig(level=logging.INFO, format=\"%(asctime)s - %(levelname)s - %(message)s\")\n",
    "\n",
    "# Function to classify a single tweet using OpenAI's ChatGPT\n",
    "def classify_tweet(content):\n",
    "    try:\n",
    "        response = openai.ChatCompletion.create(\n",
    "            model=\"gpt-3.5-turbo\",\n",
    "            messages=[\n",
    "                {\"role\": \"system\", \"content\": \"You are a classifier for emergency-related tweets. Please classify the following tweet into one of these categories: Medical assistance needed, Shelter request, Supplies needed, Evacuation alert, Rescue teams, Animals in danger, No emergency.\"},\n",
    "                {\"role\": \"user\", \"content\": f\"{content}\"}\n",
    "            ]\n",
    "        )\n",
    "        label = response['choices'][0]['message']['content'].strip()\n",
    "        return label\n",
    "    except Exception as e:\n",
    "        logging.error(f\"Error classifying tweet: {e}\")\n",
    "        return \"Error\"\n",
    "\n",
    "\n",
    "# Function to classify tweets in a DataFrame\n",
    "def classify_tweets(df):\n",
    "    labels = []\n",
    "    for index, row in df.iterrows():\n",
    "        content = f\"{row['Title']} {row['Snippet']}\"\n",
    "        label = classify_tweet(content)\n",
    "        labels.append(label)\n",
    "        time.sleep(1)  # Adding a delay to avoid rate limiting\n",
    "    df[\"Label\"] = labels\n",
    "    return df\n",
    "\n",
    "def main(input_file, output_file):\n",
    "    # Read the CSV file\n",
    "    try:\n",
    "        df = pd.read_csv(input_file)\n",
    "    except FileNotFoundError:\n",
    "        logging.error(\"Input CSV file not found.\")\n",
    "        return\n",
    "\n",
    "    # Classify tweets\n",
    "    logging.info(\"Classifying tweets...\")\n",
    "    df = classify_tweets(df)\n",
    "\n",
    "    # Save the classified tweets to a new CSV file\n",
    "    df.to_csv(output_file, index=False)\n",
    "    logging.info(f\"Classified tweets saved to {output_file}\")\n",
    "\n",
    "    # Print summary of classifications\n",
    "    summary = df[\"Label\"].value_counts()\n",
    "    print(\"Classification Summary:\")\n",
    "    print(summary)\n"
   ]
  },
  {
   "cell_type": "code",
   "execution_count": 14,
   "metadata": {},
   "outputs": [
    {
     "name": "stderr",
     "output_type": "stream",
     "text": [
      "2024-10-29 15:10:27,215 - INFO - Classifying tweets...\n",
      "2024-10-29 15:10:42,450 - INFO - Classified tweets saved to classified_test_tweets.csv\n"
     ]
    },
    {
     "name": "stdout",
     "output_type": "stream",
     "text": [
      "Classification Summary:\n",
      "Label\n",
      "No emergency                 6\n",
      "Supplies needed              1\n",
      "Evacuation alert             1\n",
      "Medical assistance needed    1\n",
      "Evacuation alert.            1\n",
      "Name: count, dtype: int64\n"
     ]
    }
   ],
   "source": [
    "# Replace this section in Jupyter or interactive environments\n",
    "input_file = \"test_tweets.csv\"\n",
    "output_file = \"classified_test_tweets.csv\"\n",
    "main(input_file, output_file)\n"
   ]
  },
  {
   "cell_type": "code",
   "execution_count": 12,
   "metadata": {},
   "outputs": [
    {
     "data": {
      "text/html": [
       "<div>\n",
       "<style scoped>\n",
       "    .dataframe tbody tr th:only-of-type {\n",
       "        vertical-align: middle;\n",
       "    }\n",
       "\n",
       "    .dataframe tbody tr th {\n",
       "        vertical-align: top;\n",
       "    }\n",
       "\n",
       "    .dataframe thead th {\n",
       "        text-align: right;\n",
       "    }\n",
       "</style>\n",
       "<table border=\"1\" class=\"dataframe\">\n",
       "  <thead>\n",
       "    <tr style=\"text-align: right;\">\n",
       "      <th></th>\n",
       "      <th>Keyword</th>\n",
       "      <th>Title</th>\n",
       "      <th>Snippet</th>\n",
       "      <th>Label</th>\n",
       "    </tr>\n",
       "  </thead>\n",
       "  <tbody>\n",
       "    <tr>\n",
       "      <th>0</th>\n",
       "      <td>disease outbreak in Lebanon</td>\n",
       "      <td>Antigenic drift and subtype interference shape...</td>\n",
       "      <td>Influenza viruses continually evolve new antig...</td>\n",
       "      <td>No emergency</td>\n",
       "    </tr>\n",
       "    <tr>\n",
       "      <th>1</th>\n",
       "      <td>Lebanon urgent assistance</td>\n",
       "      <td>'Families ran for their lives': Syria receives...</td>\n",
       "      <td>The UN High Commissioner for Refugees, Filippo...</td>\n",
       "      <td>Evacuation alert</td>\n",
       "    </tr>\n",
       "    <tr>\n",
       "      <th>2</th>\n",
       "      <td>Tyre emergency</td>\n",
       "      <td>The war in Gaza long felt personal for Palesti...</td>\n",
       "      <td>SEBLINE, Lebanon (AP) — The war in Gaza was al...</td>\n",
       "      <td>No emergency</td>\n",
       "    </tr>\n",
       "    <tr>\n",
       "      <th>3</th>\n",
       "      <td>Lebanon flooding</td>\n",
       "      <td>FEMAâs âdisaster equityâ focus means LGB...</td>\n",
       "      <td>When Homeland Security Secretary Alejandro May...</td>\n",
       "      <td>No emergency</td>\n",
       "    </tr>\n",
       "    <tr>\n",
       "      <th>4</th>\n",
       "      <td>Lebanon</td>\n",
       "      <td>Walkie-Talkies Explode in Lebanon as Part of a...</td>\n",
       "      <td>Beirut said that the new explosions have kille...</td>\n",
       "      <td>Medical assistance needed</td>\n",
       "    </tr>\n",
       "  </tbody>\n",
       "</table>\n",
       "</div>"
      ],
      "text/plain": [
       "                       Keyword  \\\n",
       "0  disease outbreak in Lebanon   \n",
       "1    Lebanon urgent assistance   \n",
       "2               Tyre emergency   \n",
       "3             Lebanon flooding   \n",
       "4                      Lebanon   \n",
       "\n",
       "                                               Title  \\\n",
       "0  Antigenic drift and subtype interference shape...   \n",
       "1  'Families ran for their lives': Syria receives...   \n",
       "2  The war in Gaza long felt personal for Palesti...   \n",
       "3  FEMAâs âdisaster equityâ focus means LGB...   \n",
       "4  Walkie-Talkies Explode in Lebanon as Part of a...   \n",
       "\n",
       "                                             Snippet  \\\n",
       "0  Influenza viruses continually evolve new antig...   \n",
       "1  The UN High Commissioner for Refugees, Filippo...   \n",
       "2  SEBLINE, Lebanon (AP) — The war in Gaza was al...   \n",
       "3  When Homeland Security Secretary Alejandro May...   \n",
       "4  Beirut said that the new explosions have kille...   \n",
       "\n",
       "                       Label  \n",
       "0               No emergency  \n",
       "1           Evacuation alert  \n",
       "2               No emergency  \n",
       "3               No emergency  \n",
       "4  Medical assistance needed  "
      ]
     },
     "execution_count": 12,
     "metadata": {},
     "output_type": "execute_result"
    }
   ],
   "source": [
    "labeled = pd.read_csv('classified_test_tweets.csv')\n",
    "labeled.head()"
   ]
  },
  {
   "cell_type": "code",
   "execution_count": null,
   "metadata": {},
   "outputs": [],
   "source": []
  }
 ],
 "metadata": {
  "kernelspec": {
   "display_name": "myenv",
   "language": "python",
   "name": "python3"
  },
  "language_info": {
   "codemirror_mode": {
    "name": "ipython",
    "version": 3
   },
   "file_extension": ".py",
   "mimetype": "text/x-python",
   "name": "python",
   "nbconvert_exporter": "python",
   "pygments_lexer": "ipython3",
   "version": "3.12.3"
  }
 },
 "nbformat": 4,
 "nbformat_minor": 2
}
